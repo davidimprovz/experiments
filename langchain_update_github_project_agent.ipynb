{
  "nbformat": 4,
  "nbformat_minor": 0,
  "metadata": {
    "colab": {
      "provenance": [],
      "toc_visible": true,
      "authorship_tag": "ABX9TyMg26N5jEc39aI/SsmmDndk"
    },
    "kernelspec": {
      "name": "python3",
      "display_name": "Python 3"
    },
    "language_info": {
      "name": "python"
    }
  },
  "cells": [
    {
      "cell_type": "markdown",
      "source": [
        "## Environ"
      ],
      "metadata": {
        "id": "lFnQJ8ZTuzPI"
      }
    },
    {
      "cell_type": "code",
      "source": [
        "# !apt install lshw\n",
        "!pip install tiktoken\n",
        "!pip install replicate\n",
        "!pip install duckduckgo-search\n",
        "!pip install unstructured\n",
        "!pip install python-dotenv\n",
        "!pip install pydantic\n",
        "!pip install accelerate\n",
        "!pip install playwright\n",
        "!pip install openai\n",
        "!pip install cohere\n",
        "!pip install chromadb\n",
        "!pip install pygithub\n",
        "!pip install langchain\n",
        "# !pip install transformers\n",
        "# !pip install sentence_transformers\n",
        "# !pip install google-api-python-client\n",
        "# !pip install google-auth-oauthlib\n",
        "# !pip install google-auth-httplib2\n",
        "# !pip install bitsandbytes\n",
        "#!pip install faiss-cpu\n",
        "#!pip install faiss-gpu"
      ],
      "metadata": {
        "id": "L2ng3Fomua06"
      },
      "execution_count": null,
      "outputs": []
    },
    {
      "cell_type": "code",
      "source": [
        "import json\n",
        "import os\n",
        "from google.colab import files\n",
        "from google.colab import drive\n",
        "from getpass import getpass\n",
        "import warnings\n",
        "import datetime\n",
        "import os\n",
        "from time import time\n",
        "from pprint import pprint\n",
        "from tqdm import tqdm\n",
        "\n",
        "warnings.filterwarnings('ignore')"
      ],
      "metadata": {
        "id": "Yd5U3nI2unVd"
      },
      "execution_count": 18,
      "outputs": []
    },
    {
      "cell_type": "code",
      "source": [
        "# connect to drive\n",
        "drive_dir = '/content/drive/'\n",
        "drive.mount(drive_dir)\n",
        "\n",
        "from pathlib import Path\n",
        "file_dir = drive_dir + 'My Drive/ColabNotebooks/Experiments/LangChain/github_update_chain/'\n",
        "if Path(file_dir).exists():\n",
        "    %cd $file_dir\n",
        "    !ls\n",
        "else:\n",
        "    print(f'{file_dir} does not exist.')"
      ],
      "metadata": {
        "colab": {
          "base_uri": "https://localhost:8080/"
        },
        "id": "g9vWiGG0upy7",
        "outputId": "ab57c2bd-1de6-435c-f4d1-e9e1b5cf06df"
      },
      "execution_count": 19,
      "outputs": [
        {
          "output_type": "stream",
          "name": "stdout",
          "text": [
            "Mounted at /content/drive/\n",
            "/content/drive/My Drive/ColabNotebooks/Experiments/LangChain/github_update_chain\n",
            "langchain_update_github_project_agent.ipynb\n"
          ]
        }
      ]
    },
    {
      "cell_type": "markdown",
      "source": [
        "## Langchain"
      ],
      "metadata": {
        "id": "p7Qcak_3u3Lu"
      }
    },
    {
      "cell_type": "code",
      "source": [
        "os.environ['OPENAI_API_KEY'] = getpass()"
      ],
      "metadata": {
        "colab": {
          "base_uri": "https://localhost:8080/"
        },
        "id": "fsZYMi5auyAh",
        "outputId": "4de175fd-0848-44b2-f127-94f8edbf5b57"
      },
      "execution_count": 4,
      "outputs": [
        {
          "name": "stdout",
          "output_type": "stream",
          "text": [
            "··········\n"
          ]
        }
      ]
    },
    {
      "cell_type": "code",
      "source": [
        "from langchain.prompts import PromptTemplate\n",
        "from langchain.llms import OpenAI\n",
        "from langchain.chat_models import ChatOpenAI"
      ],
      "metadata": {
        "id": "fpvM8bQUuCSn"
      },
      "execution_count": 12,
      "outputs": []
    },
    {
      "cell_type": "code",
      "source": [
        "from langchain.agents import AgentType, initialize_agent\n",
        "from langchain.agents.agent_toolkits.github.toolkit import GitHubToolkit\n",
        "from langchain.utilities.github import GitHubAPIWrapper"
      ],
      "metadata": {
        "id": "rxQmNIqmxEzk"
      },
      "execution_count": 7,
      "outputs": []
    },
    {
      "cell_type": "code",
      "source": [
        "openai_llm = ChatOpenAI(temperature=0, model='gpt-4')"
      ],
      "metadata": {
        "id": "P1rYxOnq6lgs"
      },
      "execution_count": 21,
      "outputs": []
    },
    {
      "cell_type": "code",
      "execution_count": null,
      "metadata": {
        "id": "rTMluF7St4iK"
      },
      "outputs": [],
      "source": [
        "from google.colab import userdata\n",
        "os.environ[\"GITHUB_APP_ID\"] = userdata.get('secretName')\n",
        "os.environ[\"GITHUB_APP_PRIVATE_KEY\"] = userdata.get('secretName') # \"path/to/your/private-key.pem\"\n",
        "os.environ[\"GITHUB_REPOSITORY\"] = userdata.get('secretName') # \"username/repo-name\"\n",
        "os.environ[\"GITHUB_BRANCH\"] = userdata.get('secretName') # \"bot-branch-name\"\n",
        "os.environ[\"GITHUB_BASE_BRANCH\"] = userdata.get('secretName') # \"main\"\n",
        "\n",
        "github = GitHubAPIWrapper()"
      ]
    },
    {
      "cell_type": "code",
      "source": [
        "toolkit = GitHubToolkit.from_github_api_wrapper(github)\n"
      ],
      "metadata": {
        "id": "skKhHdv66qwd"
      },
      "execution_count": null,
      "outputs": []
    },
    {
      "cell_type": "code",
      "source": [
        "tools = []\n",
        "unwanted_tools = [\"Get Issue\", \"Delete File\", \"Create File\", \"Create Pull Request\"]\n",
        "for tool in toolkit.get_tools():\n",
        "    if tool.name not in unwanted_tools:\n",
        "        tools.append(tool)"
      ],
      "metadata": {
        "id": "3W0X1fw50-jp"
      },
      "execution_count": null,
      "outputs": []
    },
    {
      "cell_type": "code",
      "source": [
        "agent = initialize_agent(\n",
        "    tools=tools,\n",
        "    llm=ChatOpenAI(temperature=0.1),\n",
        "    agent=AgentType.ZERO_SHOT_REACT_DESCRIPTION,\n",
        "    verbose=True,\n",
        ")"
      ],
      "metadata": {
        "id": "jeLldlzL6u1f"
      },
      "execution_count": null,
      "outputs": []
    },
    {
      "cell_type": "code",
      "source": [
        "# state purpose of the project"
      ],
      "metadata": {
        "id": "b6Bk1wVM_F94"
      },
      "execution_count": null,
      "outputs": []
    },
    {
      "cell_type": "code",
      "source": [
        " \"\"\"You have the software engineering capabilities\n",
        " of a Google Principle engineer. You are tasked with\n",
        " contributing to a code base.\"\"\""
      ],
      "metadata": {
        "id": "JoY0u8NU5f6W"
      },
      "execution_count": null,
      "outputs": []
    },
    {
      "cell_type": "code",
      "source": [
        "\n",
        "\n",
        "issue = github.get_issue(9)\n",
        "\n",
        "prompt = f\"\"\"\n",
        "You are a senior frontend developer who is experienced in HTML, CSS, and JS- especially React.\n",
        "You have been assigned the below issue. Complete it to the best of your ability.\n",
        "Remember to first make a plan and pay attention to details like file names and commonsense.\n",
        "Then execute the plan and use tools appropriately.\n",
        "Finally, make a pull request to merge your changes.\n",
        "Issue: {issue[\"title\"]}\n",
        "Issue Description: {issue['body']}\n",
        "Comments: {issue['comments']}\"\"\"\n",
        "\n",
        "agent.run(prompt)"
      ],
      "metadata": {
        "id": "YeDYdESDxKWy"
      },
      "execution_count": null,
      "outputs": []
    },
    {
      "cell_type": "code",
      "source": [],
      "metadata": {
        "id": "k6tiDO3czCZ2"
      },
      "execution_count": null,
      "outputs": []
    },
    {
      "cell_type": "markdown",
      "source": [
        "## Vector DB"
      ],
      "metadata": {
        "id": "U5_aq6Ldu4l1"
      }
    },
    {
      "cell_type": "code",
      "source": [
        "from langchain.document_loaders import DataFrameLoader\n",
        "from langchain.text_splitter import RecursiveCharacterTextSplitter # look up others\n",
        "from langchain.embeddings import OpenAIEmbeddings, JinaEmbeddings\n",
        "from langchain.embeddings.sentence_transformer import SentenceTransformerEmbeddings\n",
        "from langchain.vectorstores import FAISS, Chroma # or Chroma for in memory, or Pinecone for hosted solution\n",
        "from langchain.document_loaders import TextLoader # look up pandas df\n",
        "from langchain.document_loaders import UnstructuredMarkdownLoader\n",
        "from langchain.docstore.document import Document\n",
        "from langchain.embeddings import HuggingFaceHubEmbeddings"
      ],
      "metadata": {
        "id": "NuFuV3KfzGrL"
      },
      "execution_count": null,
      "outputs": []
    },
    {
      "cell_type": "code",
      "source": [
        "# create vectordb\n",
        "# split text\n",
        "text_splitter = RecursiveCharacterTextSplitter(chunk_size=1000, chunk_overlap=0)\n",
        "\n",
        "# split_docs = text_splitter.split_documents(documents)\n",
        "\n",
        "def make_splits(text):\n",
        "    return text_splitter.split_documents([text])\n",
        "\n",
        "scrape_data['splits'] = scrape_data['document'].apply(make_splits)"
      ],
      "metadata": {
        "id": "869XUhvtuGe6"
      },
      "execution_count": null,
      "outputs": []
    },
    {
      "cell_type": "markdown",
      "source": [
        "## Github + RAG"
      ],
      "metadata": {
        "id": "V2GAl8G4u6VC"
      }
    },
    {
      "cell_type": "code",
      "source": [
        "# reach in to github"
      ],
      "metadata": {
        "id": "t-x19zNNuLbS"
      },
      "execution_count": null,
      "outputs": []
    },
    {
      "cell_type": "code",
      "source": [
        "# generate prompt"
      ],
      "metadata": {
        "id": "4GJ9hNtvuM5h"
      },
      "execution_count": null,
      "outputs": []
    },
    {
      "cell_type": "code",
      "source": [
        "# produce code"
      ],
      "metadata": {
        "id": "qsCepGDBuN6j"
      },
      "execution_count": null,
      "outputs": []
    },
    {
      "cell_type": "markdown",
      "source": [
        "## QC + Commit"
      ],
      "metadata": {
        "id": "4JDiTIdRvAFy"
      }
    },
    {
      "cell_type": "code",
      "source": [
        "# qc code"
      ],
      "metadata": {
        "id": "fUBxQuFOuPbD"
      },
      "execution_count": null,
      "outputs": []
    },
    {
      "cell_type": "code",
      "source": [
        "# create source commit msg\n",
        "commit_prompt = \"\"\"\n",
        "\"\"\"\n",
        "commit_msg = llm('')"
      ],
      "metadata": {
        "id": "5DO6_ES7uUjb"
      },
      "execution_count": null,
      "outputs": []
    },
    {
      "cell_type": "code",
      "source": [
        "# commit to source"
      ],
      "metadata": {
        "id": "APaXutXBuQ9h"
      },
      "execution_count": null,
      "outputs": []
    },
    {
      "cell_type": "markdown",
      "source": [
        "## Entire Chain"
      ],
      "metadata": {
        "id": "NthtigNKyXVj"
      }
    },
    {
      "cell_type": "code",
      "source": [],
      "metadata": {
        "id": "XuuB_-CAyWya"
      },
      "execution_count": null,
      "outputs": []
    },
    {
      "cell_type": "code",
      "source": [],
      "metadata": {
        "id": "IVQZQZKCyVvO"
      },
      "execution_count": null,
      "outputs": []
    }
  ]
}