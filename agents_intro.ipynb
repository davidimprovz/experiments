{
  "cells": [
    {
      "cell_type": "markdown",
      "metadata": {
        "id": "view-in-github",
        "colab_type": "text"
      },
      "source": [
        "<a href=\"https://colab.research.google.com/github/davidimprovz/experiments/blob/main/agents_intro.ipynb\" target=\"_parent\"><img src=\"https://colab.research.google.com/assets/colab-badge.svg\" alt=\"Open In Colab\"/></a>"
      ]
    },
    {
      "cell_type": "markdown",
      "source": [
        "# Intro to AI Agents\n",
        "Most work in AI focuses on developing models for specific tasks, or \"fine tuning\" the large models put out by research teams.\n",
        "\n",
        "How do you orchestrate these models? That is what Agents are for.\n",
        "\n",
        "Research has shown that mulitple models working together can perform better than a single model.\n",
        "\n",
        "Let's see how to create agents and make them work for us."
      ],
      "metadata": {
        "id": "2jHE3VdyvYrN"
      }
    },
    {
      "cell_type": "code",
      "execution_count": null,
      "metadata": {
        "id": "jZ__IajtYnIt"
      },
      "outputs": [],
      "source": [
        "!pip install langchain # langchain.com\n",
        "!pip install langchain-openai\n",
        "!pip install crewai # crewai.com"
      ]
    },
    {
      "cell_type": "code",
      "source": [
        "import os\n",
        "from getpass import getpass\n",
        "\n",
        "os.environ['OPENAI_API_KEY'] = getpass()"
      ],
      "metadata": {
        "id": "iR1H9b41UhRP"
      },
      "execution_count": null,
      "outputs": []
    },
    {
      "cell_type": "markdown",
      "source": [
        "## Task 1: Research internet and summarize findings.\n",
        "\n",
        "The workflow goes:\n",
        "1. Set up your langugage models.\n",
        "2. Set up your tools, if any.\n",
        "3. Define your agents and their roles.\n",
        "4. Define the tasks they need to do."
      ],
      "metadata": {
        "id": "tY-5WVsxb1Cn"
      }
    },
    {
      "cell_type": "code",
      "source": [
        "from langchain_openai import ChatOpenAI\n",
        "\n",
        "gpt_3_5 = ChatOpenAI(model='gpt-3.5-turbo', temperature=0.7)\n",
        "gpt_4 = ChatOpenAI(model='gpt-4', temperature=0.9)"
      ],
      "metadata": {
        "id": "6-NKpSy6KzuK"
      },
      "execution_count": 3,
      "outputs": []
    },
    {
      "cell_type": "code",
      "source": [
        "!pip install duckduckgo-search"
      ],
      "metadata": {
        "id": "-YGVOHKeVxlP"
      },
      "execution_count": null,
      "outputs": []
    },
    {
      "cell_type": "code",
      "source": [
        "from langchain_community.tools import DuckDuckGoSearchRun\n",
        "ddg_search = DuckDuckGoSearchRun()"
      ],
      "metadata": {
        "id": "z7nBkVu2vHjR"
      },
      "execution_count": 5,
      "outputs": []
    },
    {
      "cell_type": "code",
      "source": [
        "from crewai import Agent, Task, Crew, Process"
      ],
      "metadata": {
        "id": "jBpDos69URG4"
      },
      "execution_count": 6,
      "outputs": []
    },
    {
      "cell_type": "code",
      "source": [
        "# Define your agents with roles and goals\n",
        "web_researcher = Agent(\n",
        "  role=\"Senior Mining Research Analyst\",\n",
        "  goal=\"Search the web to get a definitive answer to questions you're asked.\",\n",
        "  backstory=\"\"\"You work at a leading mineral mining think tank.\n",
        "  Your are a power user of web search engines to find answers\n",
        "  to questions related to mining and the mining industry.\"\"\",\n",
        "  verbose=True,\n",
        "  allow_delegation=False,\n",
        "  llm=gpt_3_5,\n",
        "  tools=[ddg_search]\n",
        ")"
      ],
      "metadata": {
        "id": "SgaKnU35vFNd"
      },
      "execution_count": 9,
      "outputs": []
    },
    {
      "cell_type": "code",
      "source": [
        "web_writer = Agent(\n",
        "  role=\"Web Research Analyst\",\n",
        "  goal=\"Identify and summarize content from web research to answer questions.\",\n",
        "  backstory=\"\"\"You are an expert web research analyst known for concise and\n",
        "  accurate answers to questions.\"\"\",\n",
        "  verbose=True,\n",
        "  allow_delegation=False,\n",
        "  llm=gpt_4,\n",
        ")\n"
      ],
      "metadata": {
        "id": "av0bEzk3vtVz"
      },
      "execution_count": 7,
      "outputs": []
    },
    {
      "cell_type": "code",
      "source": [
        "# define some tasks\n",
        "\n",
        "# Create tasks for your agents\n",
        "web_task1 = Task(\n",
        "  description=\"\"\"Tell me how many lithium mines there are in the state of Nevada.\"\"\",\n",
        "  agent=web_researcher\n",
        ")\n",
        "\n",
        "web_task2 = Task(\n",
        "  description=\"\"\"Refer to the answer of the web researcher to tell me how\n",
        "  lithium mines exist in Nevada. List your source and indiciate the most recent\n",
        "  date for your figures, if any.\"\"\",\n",
        "  agent=web_writer\n",
        ")"
      ],
      "metadata": {
        "id": "wEvVfLPaZuQj"
      },
      "execution_count": 10,
      "outputs": []
    },
    {
      "cell_type": "code",
      "source": [
        "# Create your crew with a sequential process\n",
        "\n",
        "research_crew = Crew(\n",
        "  agents=[web_researcher, web_writer],\n",
        "  tasks=[web_task1, web_task2],\n",
        "  verbose=2, # 1 or 2 for different logging levels\n",
        ")"
      ],
      "metadata": {
        "id": "WlbC6qWVboNQ"
      },
      "execution_count": 11,
      "outputs": []
    },
    {
      "cell_type": "code",
      "source": [
        "research_result = research_crew.kickoff() # Set crew to work!"
      ],
      "metadata": {
        "id": "WExrTn45XTap"
      },
      "execution_count": null,
      "outputs": []
    },
    {
      "cell_type": "code",
      "source": [
        "# check result\n",
        "print(\"######################\")\n",
        "print(research_result)"
      ],
      "metadata": {
        "id": "1deXPkpTbvFY"
      },
      "execution_count": null,
      "outputs": []
    },
    {
      "cell_type": "markdown",
      "source": [
        "## Task 2: Perform some complex programming and output an image.\n"
      ],
      "metadata": {
        "id": "VZCoi6iCb6aq"
      }
    },
    {
      "cell_type": "code",
      "source": [
        "!pip install langchain-experimental\n",
        "!pip install arxiv"
      ],
      "metadata": {
        "id": "Tszw3VCAXdy3"
      },
      "execution_count": null,
      "outputs": []
    },
    {
      "cell_type": "code",
      "source": [
        "from langchain.agents import load_tools\n",
        "from langchain_experimental.tools import PythonREPLTool\n",
        "\n",
        "py_repl = PythonREPLTool()\n",
        "arxiv_search = load_tools(['arxiv'])[0]"
      ],
      "metadata": {
        "id": "46Hl7zeoXYMp"
      },
      "execution_count": 16,
      "outputs": []
    },
    {
      "cell_type": "code",
      "source": [
        "arxiv_researcher = Agent(\n",
        "  role='Senior Research Analyst',\n",
        "  goal='Find arxiv papers that mention mineral mining from 2022 to 2024.',\n",
        "  backstory=\"\"\"You are a power web search user.\"\"\",\n",
        "  verbose=True,\n",
        "  allow_delegation=True,\n",
        "  llm=gpt_3_5,\n",
        "  tools=[ddg_search, arxiv_search]\n",
        ")"
      ],
      "metadata": {
        "id": "TmQOV19ywmpc"
      },
      "execution_count": 17,
      "outputs": []
    },
    {
      "cell_type": "code",
      "source": [
        "python_programmer = Agent(\n",
        "  role=\"Python Programmer\",\n",
        "  goal=\"\"\"Accomplish the assigned programming task.\"\"\",\n",
        "  backstory=\"\"\"You are an expert data scientist who specializes in Python.\"\"\",\n",
        "  verbose=True,\n",
        "  allow_delegation=True,\n",
        "  llm=gpt_4,\n",
        "  tools=[py_repl]\n",
        ")"
      ],
      "metadata": {
        "id": "cgfnDsy6wpLs"
      },
      "execution_count": 18,
      "outputs": []
    },
    {
      "cell_type": "code",
      "source": [
        "# Create tasks for your agents\n",
        "program_task1 = Task(\n",
        "  description=\"\"\"Search the arxiv domain for years 2022 through 2024 and find papers that mention mineral mining.\n",
        "  Exclude papers that discuss crypto and bitcoin in your results. Compile those results\n",
        "  as table with paper titles in the left-hand column and the year of publication\n",
        "  in the right-hand.\n",
        "  \"\"\",\n",
        "  agent=arxiv_researcher\n",
        ")\n",
        "\n",
        "program_task2 = Task(\n",
        "  description=\"\"\"Use the table of results provided by the Web Researcher and pandas code to tabulate the\n",
        "  number of papers for each year. Then create a simple matplotlib\n",
        "  bar chart with a title and a mean average trend line to summarize the results.\"\"\",\n",
        "  agent=python_programmer\n",
        ")"
      ],
      "metadata": {
        "id": "YcY9TRiEwvlQ"
      },
      "execution_count": 22,
      "outputs": []
    },
    {
      "cell_type": "code",
      "source": [
        "crew = Crew(\n",
        "  agents=[arxiv_researcher, python_programmer],\n",
        "  tasks=[program_task1, program_task2],\n",
        "  verbose=2,\n",
        ")"
      ],
      "metadata": {
        "id": "1m6cPOpvby4f"
      },
      "execution_count": 23,
      "outputs": []
    },
    {
      "cell_type": "code",
      "source": [
        "result = crew.kickoff()"
      ],
      "metadata": {
        "id": "TGllvzTmaC4R"
      },
      "execution_count": null,
      "outputs": []
    },
    {
      "cell_type": "code",
      "source": [
        "# check result\n",
        "print(\"######################\")\n",
        "print(result)"
      ],
      "metadata": {
        "id": "huXFqRaPw72I"
      },
      "execution_count": null,
      "outputs": []
    },
    {
      "cell_type": "markdown",
      "source": [
        "# Review\n",
        "\n",
        "Agents are powerful concepts that allow anyone to perform routine work very quickly. They can even write and execute python code.\n",
        "\n",
        "When done right, Agents can provide an exponential speedup for common digital, which makes the AI business case that much more interesting. But as you can see from running the code, getting started with Agents is like getting started with a musical instrument – easy to pick it up, but potentially challenging to master.\n",
        "\n",
        "If you're looking for specific solutions and want to learn more about how you can integrate these concepts into your organization, feel free to reach out.\n",
        "\n",
        "[LinkedIn](https://linkedin.com/in/davidimprovz), [Twitter](https://twitter.com/d_comfe), [Newsletter](https://drifft.beehiiv.com)"
      ],
      "metadata": {
        "id": "-lJMzAKEmZun"
      }
    }
  ],
  "metadata": {
    "colab": {
      "provenance": [],
      "collapsed_sections": [
        "tY-5WVsxb1Cn",
        "VZCoi6iCb6aq"
      ],
      "authorship_tag": "ABX9TyMOHGgaT9fOHr8/0qb2o3bc",
      "include_colab_link": true
    },
    "kernelspec": {
      "display_name": "Python 3",
      "name": "python3"
    },
    "language_info": {
      "name": "python"
    }
  },
  "nbformat": 4,
  "nbformat_minor": 0
}