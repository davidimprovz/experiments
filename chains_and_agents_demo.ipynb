{
 "cells": [
  {
   "cell_type": "markdown",
   "id": "8273e88d-0189-40af-b8ab-0f66405942dd",
   "metadata": {},
   "source": [
    "# Chains and Agents Demo"
   ]
  },
  {
   "cell_type": "code",
   "execution_count": 19,
   "id": "49221456-eb76-451a-9077-b74bca2e9e02",
   "metadata": {},
   "outputs": [],
   "source": [
    "import sys \n",
    "import os\n",
    "sys.path.append('../DRIFFT/code/')\n",
    "from getpass import getpass\n",
    "from news_summarizer.src.core.models import OllamaModelManager\n",
    "from langchain_groq import ChatGroq"
   ]
  },
  {
   "cell_type": "code",
   "execution_count": 20,
   "id": "af391bdc-fc8a-4f79-a6dc-fcea88defa78",
   "metadata": {},
   "outputs": [
    {
     "name": "stdin",
     "output_type": "stream",
     "text": [
      " ········\n"
     ]
    }
   ],
   "source": [
    "# simple models\n",
    "ollama_models = OllamaModelManager()\n",
    "ollama_models.load_models()\n",
    "\n",
    "os.environ['GROQ_API_KEY'] = getpass()\n",
    "groq_mixtral = ChatGroq(model_name=\"mixtral-8x7b-32768\", temperature=0.1,)"
   ]
  },
  {
   "cell_type": "code",
   "execution_count": 21,
   "id": "bd2ddc60-4533-4eca-98b3-dace5a680631",
   "metadata": {
    "collapsed": true,
    "jupyter": {
     "outputs_hidden": true
    }
   },
   "outputs": [
    {
     "data": {
      "text/plain": [
       "{'llava:latest': {'id': '8dd30f6b0cb1',\n",
       "  'size': '4.7 GB',\n",
       "  'modified': '3 minutes ago '},\n",
       " 'mistral:latest': {'id': '2ae6f6dd7a3d',\n",
       "  'size': '4.1 GB',\n",
       "  'modified': '5 minutes ago '},\n",
       " 'qwen2:latest': {'id': 'e0d4e1163c58',\n",
       "  'size': '4.4 GB',\n",
       "  'modified': '8 minutes ago '},\n",
       " 'llama3:latest': {'id': '365c0bd3c000',\n",
       "  'size': '4.7 GB',\n",
       "  'modified': '10 minutes ago'}}"
      ]
     },
     "execution_count": 21,
     "metadata": {},
     "output_type": "execute_result"
    }
   ],
   "source": [
    "ollama_models.fetch_models()"
   ]
  },
  {
   "cell_type": "markdown",
   "id": "e897e0e6-1c2f-4f6d-a212-94103cde3fcc",
   "metadata": {},
   "source": [
    "## Chains\n"
   ]
  },
  {
   "cell_type": "code",
   "execution_count": 22,
   "id": "4aa53b03-ec92-41ff-8026-db28f68d2060",
   "metadata": {},
   "outputs": [],
   "source": [
    "from langchain.prompts import PromptTemplate\n",
    "from langchain.schema import StrOutputParser"
   ]
  },
  {
   "cell_type": "code",
   "execution_count": 24,
   "id": "8924f70d-84f5-446a-ade4-bb0b28c2be0f",
   "metadata": {},
   "outputs": [],
   "source": [
    "prompt = PromptTemplate.from_template(\n",
    "    \"\"\"\n",
    "\n",
    "    \"\"\"\n",
    ")"
   ]
  },
  {
   "cell_type": "code",
   "execution_count": null,
   "id": "b7e7c711-bba6-4b55-9e93-a42f4c625038",
   "metadata": {},
   "outputs": [],
   "source": [
    "chain = prompt | groq_mixtral | StrOutputParser()"
   ]
  },
  {
   "cell_type": "code",
   "execution_count": null,
   "id": "a03e72d4-5128-48ad-a585-716583626024",
   "metadata": {},
   "outputs": [],
   "source": [
    "human_input = \"\"\n",
    "\n",
    "output = chain.invoke({\"\":human_input})\n",
    "output"
   ]
  },
  {
   "cell_type": "code",
   "execution_count": null,
   "id": "8e92e5aa-6b3f-4054-981d-a2d6e44b18b3",
   "metadata": {},
   "outputs": [],
   "source": [
    "from langchain_community.tools.tavily_search import TavilySearchResults\n",
    "os.environ[\"TAVILY_API_KEY\"] = getpass()\n",
    "\n",
    "search = TavilySearchResults(max_results=2)\n",
    "tools = [search]\n",
    "model_w_tools = groq_mixtral.bind_tools()"
   ]
  },
  {
   "cell_type": "code",
   "execution_count": null,
   "id": "3e53da2d-a55e-427c-8401-7d07b740a4ed",
   "metadata": {},
   "outputs": [],
   "source": [
    "chain_w_tools = prompt | model_w_tools | StrOutputParser()"
   ]
  },
  {
   "cell_type": "code",
   "execution_count": null,
   "id": "75c309b1-10be-4753-8965-35215032f10d",
   "metadata": {},
   "outputs": [],
   "source": [
    "chain_w_tools.invoke({'':human_input})"
   ]
  },
  {
   "cell_type": "markdown",
   "id": "cf579a85-44f2-443f-a88d-0d15e5b55ae6",
   "metadata": {},
   "source": [
    "## Agents \n"
   ]
  },
  {
   "cell_type": "code",
   "execution_count": null,
   "id": "cbb2c3aa-afa0-4cd9-8582-bce09f01316e",
   "metadata": {},
   "outputs": [],
   "source": [
    "# use tools \n",
    "from langgraph.prebuilt import create_react_agent\n",
    "from langgraph.checkpoint.sqlite import SqliteSaver"
   ]
  },
  {
   "cell_type": "code",
   "execution_count": 30,
   "id": "24af9301-d4d4-4593-9330-ad0341160fe3",
   "metadata": {},
   "outputs": [],
   "source": [
    "# groq_w_tools = groq_mixtral.bind_tools(tools)"
   ]
  },
  {
   "cell_type": "code",
   "execution_count": 33,
   "id": "567115db-6fb5-4542-b001-52a4ffc768e3",
   "metadata": {},
   "outputs": [],
   "source": [
    "memory = SqliteSaver.from_conn_string(\":memory:\")\n",
    "agent_executor = create_react_agent(groq_mixtral, tools)"
   ]
  },
  {
   "cell_type": "code",
   "execution_count": 36,
   "id": "225becd4-d21e-4486-ba97-68ef643c80c9",
   "metadata": {
    "scrolled": true
   },
   "outputs": [
    {
     "data": {
      "text/plain": [
       "{'messages': [HumanMessage(content='summarize how to make a traditional hawaiian lahala bracelet then give me step by step instructions', id='4aeaeb50-f6c3-4b10-af85-a1ea5fa11440'),\n",
       "  AIMessage(content='', additional_kwargs={'tool_calls': [{'id': 'call_qhcd', 'function': {'arguments': '{\"query\":\"traditional Hawaiian lahala bracelet making instructions\"}', 'name': 'tavily_search_results_json'}, 'type': 'function'}]}, response_metadata={'token_usage': {'completion_time': 0.512803235, 'completion_tokens': 318, 'prompt_time': 0.414721774, 'prompt_tokens': 1230, 'queue_time': None, 'total_time': 0.927525009, 'total_tokens': 1548}, 'model_name': 'mixtral-8x7b-32768', 'system_fingerprint': 'fp_c5f20b5bb1', 'finish_reason': 'tool_calls', 'logprobs': None}, id='run-d7aa64f4-ee08-481e-b6f1-167eb9b1612e-0', tool_calls=[{'name': 'tavily_search_results_json', 'args': {'query': 'traditional Hawaiian lahala bracelet making instructions'}, 'id': 'call_qhcd'}], usage_metadata={'input_tokens': 1230, 'output_tokens': 318, 'total_tokens': 1548}),\n",
       "  ToolMessage(content='[{\"url\": \"https://www.youtube.com/watch?v=hi0I5YXxclY\", \"content\": \"In this video, I make a traditional lauhala bracelet. These have been worn and made in Hawai\\'i for generations; they are made from the leaves of the hala tre...\"}, {\"url\": \"https://olukai.com/blogs/news/lauhala-weaving-origins-techniques-and-uses\", \"content\": \"Lauhala Weaving: Origins, Techniques, and Uses. The time-honored traditions of lauhala weaving serve as a profound inspiration for several of our products, most notably our men\\'s Lae\\'ahi Lauhala slipper, women\\'s Mi\\'i slip-on, and K\\\\u0101mola slide. In the Hawaiian language, \\\\\"Lau\\\\\" translates to \\\\\"leaf,\\\\\" while \\\\\"lau hala\\\\\" specifically refers to ...\"}]', name='tavily_search_results_json', id='6ee89e32-0690-46c8-9047-b55a187ce95e', tool_call_id='call_qhcd'),\n",
       "  AIMessage(content='To make a traditional Hawaiian lahala bracelet, follow these steps:\\n\\n1. Gather the leaves of the hala tree.\\n2. Prepare the leaves by splitting them into thin strips.\\n3. Begin weaving the strips together using a traditional lauhala weaving pattern.\\n4. Continue weaving until the bracelet reaches the desired length.\\n5. Secure the ends of the bracelet together.\\n\\nNote: For a visual guide on how to make a traditional Hawaiian lahala bracelet, you can watch this video: <https://www.youtube.com/watch?v=hi0I5YXxclY>\\n\\nAdditionally, you can learn more about the origins and techniques of lauhala weaving from this article: <https://olukai.com/blogs/news/lauhala-weaving-origins-techniques-and-uses>', response_metadata={'token_usage': {'completion_time': 0.325836493, 'completion_tokens': 202, 'prompt_time': 0.520599814, 'prompt_tokens': 1543, 'queue_time': None, 'total_time': 0.846436307, 'total_tokens': 1745}, 'model_name': 'mixtral-8x7b-32768', 'system_fingerprint': 'fp_c5f20b5bb1', 'finish_reason': 'stop', 'logprobs': None}, id='run-5106f32f-3862-4c40-ac10-459f262fd3fb-0', usage_metadata={'input_tokens': 1543, 'output_tokens': 202, 'total_tokens': 1745})]}"
      ]
     },
     "execution_count": 36,
     "metadata": {},
     "output_type": "execute_result"
    }
   ],
   "source": [
    "agent_executor.invoke({'messages':\"summarize how to make a traditional hawaiian lahala bracelet then give me step by step instructions\"})\n"
   ]
  },
  {
   "cell_type": "markdown",
   "id": "cab50b27-7f99-4cdc-9d11-f6c79889f58a",
   "metadata": {
    "jp-MarkdownHeadingCollapsed": true
   },
   "source": [
    "## RAG"
   ]
  },
  {
   "cell_type": "code",
   "execution_count": null,
   "id": "260a21c9-e234-44c3-bee6-d163ac520fc9",
   "metadata": {},
   "outputs": [],
   "source": [
    "\n",
    "# from langchain_community.document_loaders import TextLoader\n",
    "# from langchain.text_splitter import RecursiveCharacterTextSplitter\n",
    "# from langchain_community.embeddings.sentence_transformer import (\n",
    "#     SentenceTransformerEmbeddings,\n",
    "# )\n",
    "\n",
    "# from langchain_community.vectorstores.chroma import Chroma as ChromaDB\n",
    "# from langchain_community.vectorstores import Chroma\n"
   ]
  }
 ],
 "metadata": {
  "kernelspec": {
   "display_name": "Python 3 (ipykernel)",
   "language": "python",
   "name": "python3"
  },
  "language_info": {
   "codemirror_mode": {
    "name": "ipython",
    "version": 3
   },
   "file_extension": ".py",
   "mimetype": "text/x-python",
   "name": "python",
   "nbconvert_exporter": "python",
   "pygments_lexer": "ipython3",
   "version": "3.11.6"
  }
 },
 "nbformat": 4,
 "nbformat_minor": 5
}
